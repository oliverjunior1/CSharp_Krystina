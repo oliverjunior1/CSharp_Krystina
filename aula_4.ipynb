{
  "nbformat": 4,
  "nbformat_minor": 0,
  "metadata": {
    "colab": {
      "provenance": [],
      "authorship_tag": "ABX9TyNSJJCElmrddrQNta44ja/S",
      "include_colab_link": true
    },
    "kernelspec": {
      "name": "python3",
      "display_name": "Python 3"
    },
    "language_info": {
      "name": "python"
    }
  },
  "cells": [
    {
      "cell_type": "markdown",
      "metadata": {
        "id": "view-in-github",
        "colab_type": "text"
      },
      "source": [
        "<a href=\"https://colab.research.google.com/github/oliverjunior1/CSharp_Krystina/blob/main/aula_4.ipynb\" target=\"_parent\"><img src=\"https://colab.research.google.com/assets/colab-badge.svg\" alt=\"Open In Colab\"/></a>"
      ]
    },
    {
      "cell_type": "code",
      "execution_count": 1,
      "metadata": {
        "colab": {
          "base_uri": "https://localhost:8080/"
        },
        "id": "jT1P8F-zXAPB",
        "outputId": "b96a8ea0-9f33-40b0-bf4c-bb6327dce02c"
      },
      "outputs": [
        {
          "output_type": "stream",
          "name": "stdout",
          "text": [
            "Coloque um número: 10\n",
            "Buzz\n"
          ]
        }
      ],
      "source": [
        "numero = int(input(\"Coloque um número: \"))\n",
        "\n",
        "if numero % 3 == 0 and numero % 5 == 0:\n",
        "    print(\"FizzBuzz\")\n",
        "elif numero % 3 == 0:\n",
        "    print(\"Fizz\")\n",
        "elif numero % 5 == 0:\n",
        "    print(\"Buzz\")\n",
        "else:\n",
        "    print(f\"{numero}\")"
      ]
    },
    {
      "cell_type": "code",
      "source": [
        "\n",
        "print(\"Responda com sim ou não\")\n",
        "a = input(\"Mora perto da vítima?\")\n",
        "b = input(\"Já trabalhou com a vítima?\")\n",
        "c = input(\"Teelefonou para a vítima?\")\n",
        "d = input(\"Esteve no local do crime?\")\n",
        "e = input(\"Devia para a vítima\")\n",
        "\n",
        "list = [a, b, c, d, e]\n",
        "\n",
        "if list.count(\"sim\") == 2:\n",
        "    print(\"Suspeita\")\n",
        "elif list.count(\"sim\") >= 3 and list.count(\"sim\") <= 4:\n",
        "    print(\"Cúmplice\")\n",
        "else:\n",
        "    print(\"Culpado\")"
      ],
      "metadata": {
        "colab": {
          "base_uri": "https://localhost:8080/"
        },
        "id": "uvI5VJIYcjJN",
        "outputId": "67c08dc3-9fc2-4be5-f44a-0329014fe578"
      },
      "execution_count": 3,
      "outputs": [
        {
          "output_type": "stream",
          "name": "stdout",
          "text": [
            "Responda com sim ou não\n",
            "Mora perto da vítima?não\n",
            "Já trabalhou com a vítima?não\n",
            "Teelefonou para a vítima?sim\n",
            "Esteve no local do crime?sim\n",
            "Devia para a vítimasim\n",
            "Cúmplice\n"
          ]
        }
      ]
    },
    {
      "cell_type": "code",
      "source": [
        "print(\"Responda com sim ou não\")\n",
        "a = input(\"Mora perto da vítima?[s/n]\")\n",
        "b = input(\"Já trabalhou com a vítima?[s/n]\")\n",
        "c = input(\"Teelefonou para a vítima?[s/n]\")\n",
        "d = input(\"Esteve no local do crime?[s/n]\")\n",
        "e = input(\"Devia para a vítima [s/n]\")\n",
        "\n",
        "resposta = a+b+c+d+e\n",
        "\n",
        "resposta.count('s')\n",
        "if resposta.count(\"s\") == 2:\n",
        "    print(\"Suspeita\")\n",
        "elif resposta.count(\"s\") >= 3 and resposta.count(\"s\") <= 4:\n",
        "    print(\"Cúmplice\")\n",
        "else:\n",
        "    print(\"Culpado\")\n"
      ],
      "metadata": {
        "colab": {
          "base_uri": "https://localhost:8080/"
        },
        "id": "DqlytZ9dvrGd",
        "outputId": "4511147b-5407-4bf4-e03e-befe5f8a82cc"
      },
      "execution_count": 5,
      "outputs": [
        {
          "output_type": "stream",
          "name": "stdout",
          "text": [
            "Responda com sim ou não\n",
            "Mora perto da vítima?[s/n]s\n",
            "Já trabalhou com a vítima?[s/n]s\n",
            "Teelefonou para a vítima?[s/n]s\n",
            "Esteve no local do crime?[s/n]s\n",
            "Devia para a vítima [s/n]s\n",
            "Culpado\n"
          ]
        }
      ]
    },
    {
      "cell_type": "code",
      "source": [
        "num1 = int(input(\"Coloque um número: \"))\n",
        "num2 = int(input(\"Coloque outro número: \"))\n",
        "num3 = int(input(\"Coloque mais um número: \"))\n",
        "\n",
        "if num1 > num2 and num1 > num3:\n",
        "    print(f\"{num1} é o maior número\")\n",
        "elif num2 > num1 and num2 > num3:\n",
        "    print(f\"{num2} é o maior número\")\n",
        "elif num3 > num1 and num3 > num2:\n",
        "    print(f\"{num3} é o maior número\")\n",
        "else:\n",
        "    print(\"Os números são iguais\")"
      ],
      "metadata": {
        "colab": {
          "base_uri": "https://localhost:8080/"
        },
        "id": "t4JO-WKGyiZo",
        "outputId": "1f7c5336-ff82-4be2-db2c-b4728e639f7e"
      },
      "execution_count": 8,
      "outputs": [
        {
          "output_type": "stream",
          "name": "stdout",
          "text": [
            "Coloque um número: 1\n",
            "Coloque outro número: 2\n",
            "Coloque mais um número: 3\n",
            "3 é o maior número\n"
          ]
        }
      ]
    },
    {
      "cell_type": "code",
      "source": [
        "num1 = int(input(\"Coloque um número: \"))\n",
        "num2 = int(input(\"Coloque outro número: \"))\n",
        "num3 = int(input(\"Coloque mais um número: \"))\n",
        "\n",
        "lista = [num1, num2, num3]\n",
        "lista_maior = sorted(lista)\n",
        "\n",
        "print(f\"O maior numero é{lista_maior[-1]}.\")"
      ],
      "metadata": {
        "colab": {
          "base_uri": "https://localhost:8080/"
        },
        "id": "lMN-r0CVziqL",
        "outputId": "a6c4cdf5-a67e-49b8-a488-5a4a4dbe4492"
      },
      "execution_count": 15,
      "outputs": [
        {
          "output_type": "stream",
          "name": "stdout",
          "text": [
            "Coloque um número: 1\n",
            "Coloque outro número: 4\n",
            "Coloque mais um número: 3\n",
            "4\n"
          ]
        }
      ]
    },
    {
      "cell_type": "code",
      "source": [],
      "metadata": {
        "id": "8WSjqIVQ20dP"
      },
      "execution_count": null,
      "outputs": []
    }
  ]
}